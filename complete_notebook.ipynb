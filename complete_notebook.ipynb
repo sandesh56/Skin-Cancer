{
  "nbformat": 4,
  "nbformat_minor": 0,
  "metadata": {
    "colab": {
      "name": "cancer.ipynb",
      "provenance": [],
      "collapsed_sections": []
    },
    "kernelspec": {
      "name": "python3",
      "display_name": "Python 3"
    },
    "accelerator": "GPU"
  },
  "cells": [
    {
      "cell_type": "code",
      "metadata": {
        "id": "K6hOLkXZDw25",
        "colab_type": "code",
        "colab": {}
      },
      "source": [
        "\"\"\" here all the necessay modules and packages \"\"\"\n",
        "\n",
        "import numpy as np \n",
        "import pandas as pd \n",
        "import random\n",
        "import sys\n",
        "import cv2\n",
        "import glob\n",
        "import matplotlib.pyplot as plt200\n",
        "from subprocess import check_output\n",
        "\n",
        "import tensorflow\n",
        "from tensorflow.python.keras.models import Sequential,Model\n",
        "from tensorflow.python.keras.layers import Conv2D,MaxPooling2D,Input,Dense,Flatten,Dropout,Activation,BatchNormalization,GlobalAveragePooling2D\n",
        "from tensorflow.python.keras.layers import PReLU\n",
        "from tensorflow.python.keras import losses\n",
        "from tensorflow.python.keras.optimizers import Adam, Adagrad\n",
        "from tensorflow.python.keras.callbacks import EarlyStopping\n",
        "from tensorflow.python.keras import regularizers\n",
        "from sklearn.model_selection import GridSearchCV\n",
        "from tensorflow.python.keras.preprocessing.image import ImageDataGenerator\n",
        "import keras\n",
        "from tensorflow.python.keras.layers import LeakyReLU, PReLU\n",
        "import os\n",
        "from tensorflow.python.keras.applications.vgg16 import VGG16\n",
        "# from tensorflow.python.keras.applications.resnet50 import ResNet50\n",
        "from tensorflow.python.keras.applications.inception_resnet_v2 import InceptionResNetV2\n",
        "from tensorflow.python.keras.applications.inception_v3 import InceptionV3\n",
        "from tqdm import tqdm\n",
        "from tensorflow.python.keras.callbacks import TensorBoard\n"
      ],
      "execution_count": 0,
      "outputs": []
    },
    {
      "cell_type": "code",
      "metadata": {
        "id": "G-PuJ1y5EZ8I",
        "colab_type": "code",
        "colab": {}
      },
      "source": [
        "'''here now actuall process stats\n",
        "first we used a keras image data generator'''\n",
        "\n",
        "train_datagen = ImageDataGenerator(\n",
        "    rescale=1./255,\n",
        "    shear_range=0.2,\n",
        "    fill_mode=\"nearest\",\n",
        "    data_format='channels_last',\n",
        "    brightness_range=[0.5, 1.5],\n",
        "#     validation_split =0.2 \n",
        ")\n",
        "\n",
        "\n",
        "test_datagen = ImageDataGenerator(\n",
        "#     horizontal_flip=True,\n",
        "#                                   zoom_range=[0.5, 1.25],\n",
        "    rescale=1./255, \n",
        "#     preprocessing_function=custom_func\n",
        " )\n"
      ],
      "execution_count": 0,
      "outputs": []
    },
    {
      "cell_type": "code",
      "metadata": {
        "id": "YR8Uvqv_GOOt",
        "colab_type": "code",
        "colab": {}
      },
      "source": [
        "''' here i have used a flow_from_directory method from keras which requires \n",
        "    a folders with respective classes and images and reads that folders and automatically identifies the class.'''\n",
        "\n",
        "train_generator = train_datagen.flow_from_directory(\n",
        "    '/content/train_dir',\n",
        "    target_size=(224,224),\n",
        "    batch_size=32,\n",
        "    color_mode = 'rgb',\n",
        "    shuffle = True,\n",
        "    seed = 42,\n",
        "    class_mode='categorical',\n",
        "    )\n",
        "\n",
        "\n",
        "\n",
        "valid_generator = train_datagen.flow_from_directory(\n",
        "    directory=\"/content/val_dir\",\n",
        "    target_size=(224, 224),\n",
        "    color_mode=\"rgb\",\n",
        "    batch_size=32,\n",
        "    class_mode=\"categorical\",\n",
        "    shuffle=True,\n",
        "    seed=42,\n",
        "    )\n",
        "\n",
        "\n",
        "# test_generator = test_datagen.flow_from_directory(\n",
        "#     directory=\"/content/remake\",\n",
        "#     target_size=(512, 512),\n",
        "#     color_mode=\"rgb\",\n",
        "#     batch_size=16,\n",
        "#     class_mode=None,\n",
        "#     shuffle=False,\n",
        "#     seed=42\n",
        "# )"
      ],
      "execution_count": 0,
      "outputs": []
    },
    {
      "cell_type": "code",
      "metadata": {
        "colab_type": "code",
        "id": "3G-v5vbnVPKq",
        "colab": {}
      },
      "source": [
        "train_generator.class_indices"
      ],
      "execution_count": 0,
      "outputs": []
    },
    {
      "cell_type": "code",
      "metadata": {
        "id": "xHdUX77v4D3L",
        "colab_type": "code",
        "colab": {}
      },
      "source": [
        "'''transfer learning section'''\n",
        "\n",
        "base_model=tensorflow.keras.applications.mobilenet.MobileNet()\n",
        "base_model.summary()"
      ],
      "execution_count": 0,
      "outputs": []
    },
    {
      "cell_type": "code",
      "metadata": {
        "id": "3o1LDUALxrCU",
        "colab_type": "code",
        "colab": {}
      },
      "source": [
        "x = base_model.layers[-6].output\n",
        "\n",
        "# Create a new dense layer for predictions\n",
        "# 7 corresponds to the number of classes\n",
        "x = Dropout(0.25)(x)\n",
        "predictions = Dense(7, activation='softmax')(x)\n",
        "\n",
        "# inputs=mobile.input selects the input layer, outputs=predictions refers to the\n",
        "# dense layer we created above.\n",
        "\n",
        "model = Model(inputs=base_model.input, outputs=predictions)"
      ],
      "execution_count": 0,
      "outputs": []
    },
    {
      "cell_type": "code",
      "metadata": {
        "id": "j3pKxLEwx7PE",
        "colab_type": "code",
        "colab": {}
      },
      "source": [
        "for layer in model.layers[:-23]:\n",
        "    layer.trainable = False"
      ],
      "execution_count": 0,
      "outputs": []
    },
    {
      "cell_type": "code",
      "metadata": {
        "id": "IviRYmJDyAOn",
        "colab_type": "code",
        "colab": {}
      },
      "source": [
        "from tensorflow.keras.metrics import categorical_accuracy, top_k_categorical_accuracy\n",
        "\n",
        "def top_3_accuracy(y_true, y_pred):\n",
        "  return top_k_categorical_accuracy(y_true, y_pred, k=3)\n",
        "\n",
        "def top_2_accuracy(y_true, y_pred):\n",
        "  return top_k_categorical_accuracy(y_true, y_pred, k=2)"
      ],
      "execution_count": 0,
      "outputs": []
    },
    {
      "cell_type": "code",
      "metadata": {
        "id": "zgrF1-pHyfnm",
        "colab_type": "code",
        "colab": {}
      },
      "source": [
        "model.compile(Adam(lr=0.01), loss='categorical_crossentropy', \n",
        "              metrics=[categorical_accuracy, top_2_accuracy, top_3_accuracy])"
      ],
      "execution_count": 0,
      "outputs": []
    },
    {
      "cell_type": "code",
      "metadata": {
        "id": "trsrgqlbygyD",
        "colab_type": "code",
        "colab": {}
      },
      "source": [
        "#class weight is for making prediction accurate. datasets is highly unbalanced.\n",
        "class_weights={\n",
        "    0: 1.0, # akiec\n",
        "    1: 1.0, # bcc\n",
        "    2: 1.0, # bkl\n",
        "    3: 1.0, # df\n",
        "    4: 3.0, # mel # Try to make the model more sensitive to Melanoma.\n",
        "    5: 1.0, # nv\n",
        "    6: 1.0, # vasc\n",
        "}"
      ],
      "execution_count": 0,
      "outputs": []
    },
    {
      "cell_type": "code",
      "metadata": {
        "colab_type": "code",
        "id": "FVLHFj0VVNhF",
        "colab": {}
      },
      "source": [
        "#moddel checkpoint is for saving model in drive. Run this section only in colab\n",
        "LOG_DIR = '/gdrive/My Drive/ML/cancer/training_logs/cancer'\n",
        "MODEL_CHECKPOINT_NAME = 'model{epoch:03d}.hdf5'\n",
        "MODEL_CHECKPOINT_DIRNAME = LOG_DIR + '/checkpoints/'"
      ],
      "execution_count": 0,
      "outputs": []
    },
    {
      "cell_type": "code",
      "metadata": {
        "colab_type": "code",
        "id": "iUwu9T6VVLpA",
        "colab": {}
      },
      "source": [
        "!mkdir -p \"{MODEL_CHECKPOINT_DIRNAME}\""
      ],
      "execution_count": 0,
      "outputs": []
    },
    {
      "cell_type": "code",
      "metadata": {
        "colab_type": "code",
        "id": "9ZZfm2-CVKh1",
        "colab": {}
      },
      "source": [
        "from tensorflow.python.keras.callbacks import TensorBoard\n",
        "base_dir = './logs'\n",
        "tbCallBack = TensorBoard(log_dir=base_dir,\n",
        "                         write_graph=True,\n",
        "                         write_grads=True,\n",
        "                         batch_size=32,\n",
        "                         write_images=True,\n",
        "                         update_freq='batch')"
      ],
      "execution_count": 0,
      "outputs": []
    },
    {
      "cell_type": "code",
      "metadata": {
        "colab_type": "code",
        "id": "w16ogmdeVJvR",
        "colab": {}
      },
      "source": [
        "get_ipython().system_raw(\n",
        "    'tensorboard --logdir {} --host 0.0.0.0 --port 6006 &'\n",
        "    .format(base_dir)\n",
        ")"
      ],
      "execution_count": 0,
      "outputs": []
    },
    {
      "cell_type": "code",
      "metadata": {
        "id": "fsTTAZekkIx1",
        "colab_type": "code",
        "colab": {}
      },
      "source": [
        "get_ipython().system_raw('./ngrok authtoken 45Npt76HKnzZUgWh4ciwi_3wa9qRRs65bKe4SVbNLkz &')\n",
        "get_ipython().system_raw('./ngrok http 6006 &')"
      ],
      "execution_count": 0,
      "outputs": []
    },
    {
      "cell_type": "code",
      "metadata": {
        "colab_type": "code",
        "id": "btpinP2MVH_2",
        "colab": {}
      },
      "source": [
        "!curl -s http://localhost:4040/api/tunnels | python3 -c \\\n",
        "    \"import sys, json; print(json.load(sys.stdin)['tunnels'][0]['public_url'])\""
      ],
      "execution_count": 0,
      "outputs": []
    },
    {
      "cell_type": "code",
      "metadata": {
        "id": "DFtkRl_dzSfd",
        "colab_type": "code",
        "colab": {}
      },
      "source": [
        "import glob, os\n",
        "from tensorflow.python.keras.callbacks import ModelCheckpoint\n",
        "from tensorflow.python.keras.models import load_model"
      ],
      "execution_count": 0,
      "outputs": []
    },
    {
      "cell_type": "code",
      "metadata": {
        "id": "KHZM9k-FzV0y",
        "colab_type": "code",
        "colab": {}
      },
      "source": [
        "def get_init_epoch(check_point_path):\n",
        "    check_point_list = glob.glob(os.path.join(check_point_path, 'model*.hdf5'))\n",
        "    base_names = [os.path.basename(check_point) for check_point in check_point_list]\n",
        "    epochs = [int(re.search(r'\\d+', string).group()) for string in base_names]\n",
        "    return np.max(epochs) if epochs else 0"
      ],
      "execution_count": 0,
      "outputs": []
    },
    {
      "cell_type": "code",
      "metadata": {
        "id": "JmJ-PX_fzbsn",
        "colab_type": "code",
        "colab": {}
      },
      "source": [
        "def load_saved_model(model_path):\n",
        "    model = load_model(model_path)\n",
        "    return model"
      ],
      "execution_count": 0,
      "outputs": []
    },
    {
      "cell_type": "code",
      "metadata": {
        "id": "ihCrMuuqZLW4",
        "colab_type": "code",
        "colab": {}
      },
      "source": [
        "import re"
      ],
      "execution_count": 0,
      "outputs": []
    },
    {
      "cell_type": "code",
      "metadata": {
        "id": "nIO-w0Zezcgs",
        "colab_type": "code",
        "outputId": "3b32689f-043e-4244-d596-96dfa9438c5d",
        "colab": {
          "base_uri": "https://localhost:8080/",
          "height": 35
        }
      },
      "source": [
        "init_epoch = get_init_epoch(MODEL_CHECKPOINT_DIRNAME)\n",
        "print(init_epoch)\n",
        "if init_epoch:\n",
        "    model_path = MODEL_CHECKPOINT_DIRNAME + MODEL_CHECKPOINT_NAME.format(epoch=init_epoch)\n",
        "    model = load_saved_model(model_path)\n",
        "    model.summary()\n",
        "else:\n",
        "    model =model"
      ],
      "execution_count": 0,
      "outputs": [
        {
          "output_type": "stream",
          "text": [
            "0\n"
          ],
          "name": "stdout"
        }
      ]
    },
    {
      "cell_type": "code",
      "metadata": {
        "id": "yi_s30B42JQs",
        "colab_type": "code",
        "colab": {}
      },
      "source": [
        "from tensorflow.keras.callbacks import EarlyStopping, ReduceLROnPlateau, ModelCheckpoint"
      ],
      "execution_count": 0,
      "outputs": []
    },
    {
      "cell_type": "code",
      "metadata": {
        "id": "Hcf4KV4ZzNGI",
        "colab_type": "code",
        "colab": {}
      },
      "source": [
        "\n",
        "checkpoint = ModelCheckpoint(MODEL_CHECKPOINT_DIRNAME + MODEL_CHECKPOINT_NAME, monitor='val_top_3_accuracy', verbose=1, \n",
        "                             save_best_only=True, mode='max')\n",
        "\n",
        "reduce_lr = ReduceLROnPlateau(monitor='val_top_3_accuracy', factor=0.5, patience=2, \n",
        "                              verbose=1, mode='max', min_lr=0.00001)\n",
        "                              \n",
        "                              \n",
        "callbacks_list = [checkpoint, reduce_lr]\n",
        "\n",
        "history = model.fit_generator(train_generator, steps_per_epoch=1205, \n",
        "                              class_weight=class_weights,\n",
        "                              validation_data=valid_generator,\n",
        "                              validation_steps=29,\n",
        "                              epochs=150, verbose=1,\n",
        "                              callbacks=[model_checkpoint_callback, tbCallBack], initial_epoch=init_epoch)"
      ],
      "execution_count": 0,
      "outputs": []
    },
    {
      "cell_type": "code",
      "metadata": {
        "id": "6YREbJLUlfis",
        "colab_type": "code",
        "colab": {}
      },
      "source": [
        "# 143 -99 and 96 "
      ],
      "execution_count": 0,
      "outputs": []
    },
    {
      "cell_type": "code",
      "metadata": {
        "id": "vfG-YEQxLyfe",
        "colab_type": "code",
        "colab": {}
      },
      "source": [
        "plt.plot(history.history['acc'])\n",
        "plt.plot(history.history['val_acc'])\n",
        "\n",
        "\n",
        "plt.title('Model accuracy')\n",
        "plt.ylabel('Accuracy')\n",
        "plt.xlabel('Epoch')\n",
        "plt.legend(['Train', 'Test'], loc='upper left')\n",
        "plt.show()\n",
        "\n",
        "# Plot training & validation loss values\n",
        "plt.plot(history.history['loss'])\n",
        "plt.plot(history.history['val_loss'])\n",
        "\n",
        "plt.title('Model loss')\n",
        "plt.ylabel('Loss')\n",
        "plt.xlabel('Epoch')\n",
        "plt.legend(['Train', 'Test'], loc='upper left')\n",
        "plt.show()"
      ],
      "execution_count": 0,
      "outputs": []
    },
    {
      "cell_type": "code",
      "metadata": {
        "id": "Iob-n3cPB7oi",
        "colab_type": "code",
        "colab": {}
      },
      "source": [
        "import sys\n",
        "import matplotlib\n",
        "print(\"Generating plots...\")\n",
        "sys.stdout.flush()\n",
        "matplotlib.use(\"Agg\")\n",
        "matplotlib.pyplot.style.use(\"ggplot\")\n",
        "matplotlib.pyplot.figure()\n",
        "N =210\n",
        "matplotlib.pyplot.plot(np.arange(0, N), history.history[\"loss\"], label=\"train_loss\")\n",
        "matplotlib.pyplot.plot(np.arange(0, N), history.history[\"val_loss\"], label=\"val_loss\")\n",
        "matplotlib.pyplot.plot(np.arange(0, N), history.history[\"acc\"], label=\"train_acc\")\n",
        "matplotlib.pyplot.plot(np.arange(0, N), history.history[\"val_acc\"], label=\"val_acc\")\n",
        "matplotlib.pyplot.title(\"Training Loss and Accuracy on diabetic retinopathy detection\")\n",
        "matplotlib.pyplot.xlabel(\"Epoch #\")\n",
        "matplotlib.pyplot.ylabel(\"Loss/Accuracy\")\n",
        "matplotlib.pyplot.legend(loc=\"lower left\")\n",
        "matplotlib.pyplot.savefig(\"plot.png\")"
      ],
      "execution_count": 0,
      "outputs": []
    },
    {
      "cell_type": "code",
      "metadata": {
        "id": "XY5daVk_FK2I",
        "colab_type": "code",
        "colab": {}
      },
      "source": [
        "from keras.models import load_model\n",
        "from keras.models import Model\n",
        "model=load_model=('/content/model.hdf5')"
      ],
      "execution_count": 0,
      "outputs": []
    },
    {
      "cell_type": "code",
      "metadata": {
        "id": "7l_0phU0FZjn",
        "colab_type": "code",
        "colab": {}
      },
      "source": [
        "model.summary()"
      ],
      "execution_count": 0,
      "outputs": []
    },
    {
      "cell_type": "code",
      "metadata": {
        "id": "97A_OtxDFh6K",
        "colab_type": "code",
        "outputId": "334d8d59-5fa2-4a51-de4d-a440bcd0c7f9",
        "colab": {
          "base_uri": "https://localhost:8080/",
          "height": 34
        }
      },
      "source": [
        "\n",
        "STEP_SIZE_TRAIN=train_generator.n//train_generator.batch_size\n",
        "STEP_SIZE_VALID=valid_generator.n//valid_generator.batch_size\n",
        "model.evaluate_generator(generator=valid_generator,\n",
        "steps=STEP_SIZE_VALID)"
      ],
      "execution_count": 0,
      "outputs": [
        {
          "output_type": "execute_result",
          "data": {
            "text/plain": [
              "[0.2308176941393564, 0.92528737]"
            ]
          },
          "metadata": {
            "tags": []
          },
          "execution_count": 36
        }
      ]
    },
    {
      "cell_type": "code",
      "metadata": {
        "id": "i5CAubnSG3yR",
        "colab_type": "code",
        "colab": {}
      },
      "source": [
        "labels = (train_generator.class_indices)\n",
        "labels = dict((v,k) for k,v in labels.items())\n",
        "predictions = [labels[k] for k in predicted_class_indices]"
      ],
      "execution_count": 0,
      "outputs": []
    },
    {
      "cell_type": "code",
      "metadata": {
        "id": "4txEQ7FwG-CO",
        "colab_type": "code",
        "colab": {}
      },
      "source": [
        "predictions"
      ],
      "execution_count": 0,
      "outputs": []
    }
  ]
}